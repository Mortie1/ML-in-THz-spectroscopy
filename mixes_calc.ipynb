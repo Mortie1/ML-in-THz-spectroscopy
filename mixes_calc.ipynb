{
 "cells": [
  {
   "cell_type": "code",
   "execution_count": 1,
   "id": "3eb916cc",
   "metadata": {},
   "outputs": [
    {
     "name": "stdout",
     "output_type": "stream",
     "text": [
      "HAPI version: 1.2.2.0\n",
      "To get the most up-to-date version please check http://hitran.org/hapi\n",
      "ATTENTION: Python versions of partition sums from TIPS-2021 are now available in HAPI code\n",
      "\n",
      "           MIT license: Copyright 2021 HITRAN team, see more at http://hitran.org. \n",
      "\n",
      "           If you use HAPI in your research or software development,\n",
      "           please cite it using the following reference:\n",
      "           R.V. Kochanov, I.E. Gordon, L.S. Rothman, P. Wcislo, C. Hill, J.S. Wilzewski,\n",
      "           HITRAN Application Programming Interface (HAPI): A comprehensive approach\n",
      "           to working with spectroscopic data, J. Quant. Spectrosc. Radiat. Transfer 177, 15-30 (2016)\n",
      "           DOI: 10.1016/j.jqsrt.2016.03.005\n",
      "\n",
      "           ATTENTION: This is the core version of the HITRAN Application Programming Interface.\n",
      "                      For more efficient implementation of the absorption coefficient routine, \n",
      "                      as well as for new profiles, parameters and other functional,\n",
      "                      please consider using HAPI2 extension library.\n",
      "                      HAPI2 package is available at http://github.com/hitranonline/hapi2\n",
      "\n",
      "Using data\n",
      "\n",
      "CH4\n",
      "                     Lines parsed: 733\n",
      "H20\n",
      "                     Lines parsed: 7604\n",
      "H2O\n",
      "                     Lines parsed: 139\n",
      "H2S\n",
      "                     Lines parsed: 91\n",
      "N2\n",
      "                     Lines parsed: 94\n",
      "NH3\n",
      "                     Lines parsed: 1117\n",
      "NO\n",
      "                     Lines parsed: 3093\n",
      "O2\n",
      "                     Lines parsed: 14\n",
      "O3\n",
      "                     Lines parsed: 4871\n",
      "SO2\n",
      "                     Lines parsed: 23560\n"
     ]
    }
   ],
   "source": [
    "import numpy as np\n",
    "import pandas as pd\n",
    "import matplotlib.pyplot as plt\n",
    "import itertools\n",
    "from itertools import combinations\n",
    "from tqdm import tqdm\n",
    "from hapi import *\n",
    "db_begin('data')\n",
    "%matplotlib inline"
   ]
  },
  {
   "cell_type": "code",
   "execution_count": 2,
   "id": "504c923b",
   "metadata": {},
   "outputs": [
    {
     "data": {
      "text/plain": [
       "'combisos4 = itertools.combinations(isos, 4)\\ncombcomps4 = itertools.combinations(comps, 4)\\ncomb_isos4 = []\\nfor comb in combisos4:\\n    comb_isos4.append(list(comb))\\ncomb_comps4 = []\\nfor comb in combcomps4:\\n    comb_comps4.append(list(comb)) \\n\\ncombisos5 = itertools.combinations(isos, 5)\\ncombcomps5 = itertools.combinations(comps, 5)\\ncomb_isos5 = []\\nfor comb in combisos5:\\n    comb_isos5.append(list(comb))\\ncomb_comps5 = []\\nfor comb in combcomps5:\\n    comb_comps5.append(list(comb))\\n'"
      ]
     },
     "execution_count": 2,
     "metadata": {},
     "output_type": "execute_result"
    }
   ],
   "source": [
    "comps = ['H2O', 'O3', 'O2', 'CH4', 'SO2', 'NH3', 'NO', 'H2S']\n",
    "isos = [(1,1),(3,1),(7,1),(6,1),(9,1),(11,1),(8,1),(31,1)]\n",
    "\n",
    "combisos2 = itertools.combinations(isos, 2)\n",
    "combcomps2 = itertools.combinations(comps, 2)\n",
    "comb_isos2 = []\n",
    "for comb in combisos2:\n",
    "    comb_isos2.append(list(comb))\n",
    "comb_comps2 = []\n",
    "for comb in combcomps2:\n",
    "    comb_comps2.append(list(comb))\n",
    "\n",
    "'''combisos3 = itertools.combinations(isos, 3)\n",
    "combcomps3 = itertools.combinations(comps, 3)\n",
    "comb_isos3 = []\n",
    "for comb in combisos3:\n",
    "    comb_isos3.append(list(comb))\n",
    "comb_comps3 = []\n",
    "for comb in combcomps3:\n",
    "    comb_comps3.append(list(comb))'''\n",
    "\n",
    "'''combisos4 = itertools.combinations(isos, 4)\n",
    "combcomps4 = itertools.combinations(comps, 4)\n",
    "comb_isos4 = []\n",
    "for comb in combisos4:\n",
    "    comb_isos4.append(list(comb))\n",
    "comb_comps4 = []\n",
    "for comb in combcomps4:\n",
    "    comb_comps4.append(list(comb)) \n",
    "\n",
    "combisos5 = itertools.combinations(isos, 5)\n",
    "combcomps5 = itertools.combinations(comps, 5)\n",
    "comb_isos5 = []\n",
    "for comb in combisos5:\n",
    "    comb_isos5.append(list(comb))\n",
    "comb_comps5 = []\n",
    "for comb in combcomps5:\n",
    "    comb_comps5.append(list(comb))\n",
    "'''"
   ]
  },
  {
   "cell_type": "code",
   "execution_count": 3,
   "id": "2d148ab3",
   "metadata": {},
   "outputs": [],
   "source": [
    "def mix_spectra(compniso, comp, press):\n",
    "    nu,coef = absorptionCoefficient_Voigt((compniso),comp,OmegaRange=(121, 125),OmegaStep=0.004, HITRAN_units=False, Environment={'p':press/10,'T':296}, Diluent={\"self\": 1}, Verbose=False) # compniso - кортеж состоящий из номеров изотопов молекул смеси, comp - молекулы смеси\n",
    "    return coef"
   ]
  },
  {
   "cell_type": "code",
   "execution_count": 5,
   "id": "26f42068",
   "metadata": {},
   "outputs": [],
   "source": [
    "#If the CO2 content is 100%, set the 'SELF': 1, and another parameter setting Air = 0\n",
    "#If the CO2 content is 1%, the settings of 'H2O' = 0.01, and the other set to 'Air' = 0.99\n",
    "\n",
    "#If it is a pure air environment, set the 'Air' = 1"
   ]
  },
  {
   "cell_type": "code",
   "execution_count": 5,
   "id": "44688270",
   "metadata": {},
   "outputs": [
    {
     "name": "stderr",
     "output_type": "stream",
     "text": [
      "pressures for ['H2O', 'O3']: 100%|██████████| 10/10 [00:11<00:00,  1.15s/it]\n",
      "pressures for ['H2O', 'O2']: 100%|██████████| 10/10 [00:00<00:00, 22.29it/s]\n",
      "pressures for ['H2O', 'CH4']: 100%|██████████| 10/10 [00:02<00:00,  4.57it/s]\n",
      "pressures for ['H2O', 'SO2']: 100%|██████████| 10/10 [01:09<00:00,  7.00s/it]\n",
      "pressures for ['H2O', 'NH3']: 100%|██████████| 10/10 [00:03<00:00,  2.53it/s]\n",
      "pressures for ['H2O', 'NO']: 100%|██████████| 10/10 [00:09<00:00,  1.02it/s]\n",
      "pressures for ['H2O', 'H2S']: 100%|██████████| 10/10 [00:00<00:00, 15.17it/s]\n",
      "pressures for ['O3', 'O2']: 100%|██████████| 10/10 [00:11<00:00,  1.13s/it]\n",
      "pressures for ['O3', 'CH4']: 100%|██████████| 10/10 [00:13<00:00,  1.31s/it]\n",
      "pressures for ['O3', 'SO2']: 100%|██████████| 10/10 [01:18<00:00,  7.88s/it]\n",
      "pressures for ['O3', 'NH3']: 100%|██████████| 10/10 [00:14<00:00,  1.42s/it]\n",
      "pressures for ['O3', 'NO']: 100%|██████████| 10/10 [00:19<00:00,  1.98s/it]\n",
      "pressures for ['O3', 'H2S']: 100%|██████████| 10/10 [00:11<00:00,  1.13s/it]\n",
      "pressures for ['O2', 'CH4']: 100%|██████████| 10/10 [00:01<00:00,  5.36it/s]\n",
      "pressures for ['O2', 'SO2']: 100%|██████████| 10/10 [01:08<00:00,  6.80s/it]\n",
      "pressures for ['O2', 'NH3']: 100%|██████████| 10/10 [00:03<00:00,  2.89it/s]\n",
      "pressures for ['O2', 'NO']: 100%|██████████| 10/10 [00:08<00:00,  1.11it/s]\n",
      "pressures for ['O2', 'H2S']: 100%|██████████| 10/10 [00:00<00:00, 32.21it/s]\n",
      "pressures for ['CH4', 'SO2']: 100%|██████████| 10/10 [01:09<00:00,  6.97s/it]\n",
      "pressures for ['CH4', 'NH3']: 100%|██████████| 10/10 [00:05<00:00,  1.93it/s]\n",
      "pressures for ['CH4', 'NO']: 100%|██████████| 10/10 [00:10<00:00,  1.08s/it]\n",
      "pressures for ['CH4', 'H2S']: 100%|██████████| 10/10 [00:02<00:00,  4.88it/s]\n",
      "pressures for ['SO2', 'NH3']: 100%|██████████| 10/10 [01:11<00:00,  7.10s/it]\n",
      "pressures for ['SO2', 'NO']: 100%|██████████| 10/10 [01:16<00:00,  7.65s/it]\n",
      "pressures for ['SO2', 'H2S']: 100%|██████████| 10/10 [01:07<00:00,  6.78s/it]\n",
      "pressures for ['NH3', 'NO']: 100%|██████████| 10/10 [00:12<00:00,  1.23s/it]\n",
      "pressures for ['NH3', 'H2S']: 100%|██████████| 10/10 [00:03<00:00,  2.75it/s]\n",
      "pressures for ['NO', 'H2S']: 100%|██████████| 10/10 [00:09<00:00,  1.09it/s]\n"
     ]
    }
   ],
   "source": [
    "mixes = []\n",
    "params2c1 = []\n",
    "params2c2 = []\n",
    "for i in range(len(comb_isos2)):\n",
    "    for j in tqdm(range(1,11), desc=f\"pressures for {comb_comps2[i]}\"):\n",
    "        mixes.append(mix_spectra(comb_isos2[i],comb_comps2[i],j))\n",
    "        params2c1.append(comb_comps2[i])  # записываем параметры сгенерированной смеси, для обработки результатов. здесь - компоненты смеси\n",
    "        params2c2.append(j/10) # давление смеси"
   ]
  },
  {
   "cell_type": "code",
   "execution_count": 10,
   "id": "b4e49db6",
   "metadata": {},
   "outputs": [
    {
     "data": {
      "text/plain": [
       "array([[0., 0., 0., ..., 0., 0., 0.],\n",
       "       [0., 0., 0., ..., 0., 0., 0.],\n",
       "       [0., 0., 0., ..., 0., 0., 0.],\n",
       "       ...,\n",
       "       [0., 0., 0., ..., 0., 0., 0.],\n",
       "       [0., 0., 0., ..., 0., 0., 0.],\n",
       "       [0., 0., 0., ..., 0., 0., 0.]])"
      ]
     },
     "execution_count": 10,
     "metadata": {},
     "output_type": "execute_result"
    }
   ],
   "source": [
    "mixes"
   ]
  },
  {
   "cell_type": "code",
   "execution_count": 8,
   "id": "5bc9c8be",
   "metadata": {},
   "outputs": [
    {
     "data": {
      "text/plain": [
       "(280, 1001)"
      ]
     },
     "execution_count": 8,
     "metadata": {},
     "output_type": "execute_result"
    }
   ],
   "source": [
    "mixes=np.array(mixes)\n",
    "mixes.shape"
   ]
  },
  {
   "cell_type": "code",
   "execution_count": 9,
   "metadata": {},
   "outputs": [],
   "source": [
    "np.savetxt(\"mixes.txt\", mixes, delimiter=\" \")"
   ]
  },
  {
   "cell_type": "code",
   "execution_count": 7,
   "metadata": {},
   "outputs": [],
   "source": [
    "temp1 = params2c1"
   ]
  },
  {
   "cell_type": "code",
   "execution_count": 8,
   "metadata": {},
   "outputs": [
    {
     "data": {
      "text/plain": [
       "560"
      ]
     },
     "execution_count": 8,
     "metadata": {},
     "output_type": "execute_result"
    }
   ],
   "source": [
    "y_ = [0,0,0,0,0,0,0,0]\n",
    "y_true = [] # вектор правильных ответов, 1-компонент присутствует, 0 - отсутствует. для этого итерируемся по всему списку комбинаций\n",
    "for i in range(280):\n",
    "    z=temp1[i]\n",
    "    for k in z:\n",
    "        for i in range(len(y_)):\n",
    "            if (comps[i])==k:\n",
    "                y_[i] = 1\n",
    "                y_true.append(y_)\n",
    "    y_ = [0,0,0,0,0,0,0,0]\n",
    "len(y_true)"
   ]
  },
  {
   "cell_type": "code",
   "execution_count": 9,
   "metadata": {},
   "outputs": [
    {
     "data": {
      "text/plain": [
       "(280, 8)"
      ]
     },
     "execution_count": 9,
     "metadata": {},
     "output_type": "execute_result"
    }
   ],
   "source": [
    "y_true2 = []\n",
    "for i in range(1,len(y_true),2):\n",
    "    y_true2.append(y_true[i])\n",
    "y_true2 = np.array(y_true2)\n",
    "y_true2.shape"
   ]
  },
  {
   "cell_type": "code",
   "execution_count": 10,
   "metadata": {},
   "outputs": [],
   "source": [
    "np.savetxt(\"y_true2.txt\", y_true2)"
   ]
  },
  {
   "cell_type": "code",
   "execution_count": 11,
   "id": "ccbf764d",
   "metadata": {},
   "outputs": [],
   "source": [
    "params2c1 = pd.DataFrame(params2c1)\n",
    "params2c2 = pd.DataFrame(params2c2)"
   ]
  },
  {
   "cell_type": "code",
   "execution_count": 12,
   "metadata": {},
   "outputs": [],
   "source": [
    "params2c1.to_csv('components.csv', index=False)\n",
    "params2c2.to_csv('pressure.csv', index=False)"
   ]
  }
 ],
 "metadata": {
  "kernelspec": {
   "display_name": "Python 3 (ipykernel)",
   "language": "python",
   "name": "python3"
  },
  "language_info": {
   "codemirror_mode": {
    "name": "ipython",
    "version": 3
   },
   "file_extension": ".py",
   "mimetype": "text/x-python",
   "name": "python",
   "nbconvert_exporter": "python",
   "pygments_lexer": "ipython3",
   "version": "3.10.7"
  }
 },
 "nbformat": 4,
 "nbformat_minor": 5
}
