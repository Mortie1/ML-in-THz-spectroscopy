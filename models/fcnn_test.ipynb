{
 "cells": [
  {
   "cell_type": "code",
   "execution_count": 1,
   "metadata": {},
   "outputs": [
    {
     "name": "stdout",
     "output_type": "stream",
     "text": [
      "env: TORCH_USE_CUDA_DSA=1\n",
      "env: CUDA_LAUNCH_BLOCKING=1\n"
     ]
    }
   ],
   "source": [
    "%env TORCH_USE_CUDA_DSA=1\n",
    "%env CUDA_LAUNCH_BLOCKING=1"
   ]
  },
  {
   "cell_type": "code",
   "execution_count": 1,
   "metadata": {},
   "outputs": [],
   "source": [
    "from typing import Tuple\n",
    "from tqdm import tqdm\n",
    "from sklearn.model_selection import train_test_split\n",
    "import pandas as pd\n",
    "\n",
    "import numpy as np\n",
    "\n",
    "import torch\n",
    "\n",
    "from torch import nn\n",
    "from torch.utils.data import Dataset, DataLoader\n",
    "from torch.optim import Optimizer, Adam\n",
    "from torch.optim.lr_scheduler import LRScheduler"
   ]
  },
  {
   "cell_type": "code",
   "execution_count": 2,
   "metadata": {},
   "outputs": [
    {
     "data": {
      "text/plain": [
       "device(type='cuda', index=0)"
      ]
     },
     "execution_count": 2,
     "metadata": {},
     "output_type": "execute_result"
    }
   ],
   "source": [
    "device = torch.device(\"cuda:0\" if torch.cuda.is_available() else \"cpu\")\n",
    "device"
   ]
  },
  {
   "cell_type": "code",
   "execution_count": 3,
   "metadata": {},
   "outputs": [],
   "source": [
    "torch.set_default_dtype(torch.float64)"
   ]
  },
  {
   "cell_type": "code",
   "execution_count": 4,
   "metadata": {},
   "outputs": [
    {
     "data": {
      "text/html": [
       "<div>\n",
       "<style scoped>\n",
       "    .dataframe tbody tr th:only-of-type {\n",
       "        vertical-align: middle;\n",
       "    }\n",
       "\n",
       "    .dataframe tbody tr th {\n",
       "        vertical-align: top;\n",
       "    }\n",
       "\n",
       "    .dataframe thead th {\n",
       "        text-align: right;\n",
       "    }\n",
       "</style>\n",
       "<table border=\"1\" class=\"dataframe\">\n",
       "  <thead>\n",
       "    <tr style=\"text-align: right;\">\n",
       "      <th></th>\n",
       "      <th>0</th>\n",
       "      <th>1</th>\n",
       "      <th>2</th>\n",
       "      <th>3</th>\n",
       "      <th>4</th>\n",
       "      <th>5</th>\n",
       "      <th>6</th>\n",
       "      <th>7</th>\n",
       "      <th>8</th>\n",
       "      <th>9</th>\n",
       "      <th>...</th>\n",
       "      <th>1000</th>\n",
       "      <th>element_1</th>\n",
       "      <th>element_2</th>\n",
       "      <th>element_3</th>\n",
       "      <th>element_1_ratio</th>\n",
       "      <th>element_2_ratio</th>\n",
       "      <th>element_3_ratio</th>\n",
       "      <th>temp</th>\n",
       "      <th>pressure</th>\n",
       "      <th>air_ratio</th>\n",
       "    </tr>\n",
       "  </thead>\n",
       "  <tbody>\n",
       "    <tr>\n",
       "      <th>51976</th>\n",
       "      <td>1.429725e-20</td>\n",
       "      <td>3.325318e-20</td>\n",
       "      <td>1.513897e-20</td>\n",
       "      <td>1.119836e-21</td>\n",
       "      <td>1.209848e-21</td>\n",
       "      <td>2.024112e-21</td>\n",
       "      <td>7.172782e-21</td>\n",
       "      <td>4.953834e-21</td>\n",
       "      <td>1.539859e-21</td>\n",
       "      <td>1.285451e-21</td>\n",
       "      <td>...</td>\n",
       "      <td>9.105786e-25</td>\n",
       "      <td>9</td>\n",
       "      <td>12</td>\n",
       "      <td>22</td>\n",
       "      <td>0.136030</td>\n",
       "      <td>0.262144</td>\n",
       "      <td>0.601825</td>\n",
       "      <td>283.0</td>\n",
       "      <td>0.2</td>\n",
       "      <td>0.6</td>\n",
       "    </tr>\n",
       "    <tr>\n",
       "      <th>18970</th>\n",
       "      <td>5.940243e-23</td>\n",
       "      <td>7.336601e-23</td>\n",
       "      <td>9.720283e-23</td>\n",
       "      <td>1.447083e-22</td>\n",
       "      <td>2.680262e-22</td>\n",
       "      <td>8.343595e-22</td>\n",
       "      <td>1.010416e-20</td>\n",
       "      <td>6.042984e-21</td>\n",
       "      <td>7.479574e-22</td>\n",
       "      <td>3.643073e-22</td>\n",
       "      <td>...</td>\n",
       "      <td>1.465311e-22</td>\n",
       "      <td>0</td>\n",
       "      <td>21</td>\n",
       "      <td>22</td>\n",
       "      <td>0.188355</td>\n",
       "      <td>0.316809</td>\n",
       "      <td>0.494835</td>\n",
       "      <td>283.0</td>\n",
       "      <td>0.1</td>\n",
       "      <td>0.6</td>\n",
       "    </tr>\n",
       "    <tr>\n",
       "      <th>30497</th>\n",
       "      <td>1.193615e-20</td>\n",
       "      <td>6.945339e-21</td>\n",
       "      <td>6.543001e-22</td>\n",
       "      <td>2.529143e-22</td>\n",
       "      <td>1.749403e-22</td>\n",
       "      <td>3.243140e-22</td>\n",
       "      <td>3.550860e-22</td>\n",
       "      <td>1.091960e-22</td>\n",
       "      <td>9.629268e-23</td>\n",
       "      <td>1.882503e-22</td>\n",
       "      <td>...</td>\n",
       "      <td>7.445923e-23</td>\n",
       "      <td>5</td>\n",
       "      <td>16</td>\n",
       "      <td>19</td>\n",
       "      <td>0.444071</td>\n",
       "      <td>0.477905</td>\n",
       "      <td>0.078024</td>\n",
       "      <td>323.0</td>\n",
       "      <td>0.1</td>\n",
       "      <td>0.6</td>\n",
       "    </tr>\n",
       "    <tr>\n",
       "      <th>30356</th>\n",
       "      <td>1.624151e-20</td>\n",
       "      <td>5.577240e-21</td>\n",
       "      <td>9.267746e-22</td>\n",
       "      <td>2.168774e-21</td>\n",
       "      <td>5.549700e-21</td>\n",
       "      <td>4.163047e-21</td>\n",
       "      <td>1.670818e-21</td>\n",
       "      <td>8.912111e-22</td>\n",
       "      <td>8.374945e-22</td>\n",
       "      <td>1.444200e-21</td>\n",
       "      <td>...</td>\n",
       "      <td>3.604447e-22</td>\n",
       "      <td>4</td>\n",
       "      <td>21</td>\n",
       "      <td>24</td>\n",
       "      <td>0.509421</td>\n",
       "      <td>0.224513</td>\n",
       "      <td>0.266066</td>\n",
       "      <td>323.0</td>\n",
       "      <td>0.1</td>\n",
       "      <td>0.6</td>\n",
       "    </tr>\n",
       "    <tr>\n",
       "      <th>140548</th>\n",
       "      <td>2.003258e-21</td>\n",
       "      <td>1.077312e-21</td>\n",
       "      <td>3.272797e-22</td>\n",
       "      <td>1.452913e-22</td>\n",
       "      <td>9.167639e-23</td>\n",
       "      <td>6.963908e-23</td>\n",
       "      <td>5.832702e-23</td>\n",
       "      <td>5.251748e-23</td>\n",
       "      <td>4.962818e-23</td>\n",
       "      <td>4.851140e-23</td>\n",
       "      <td>...</td>\n",
       "      <td>9.615524e-22</td>\n",
       "      <td>4</td>\n",
       "      <td>13</td>\n",
       "      <td>18</td>\n",
       "      <td>0.227958</td>\n",
       "      <td>0.482563</td>\n",
       "      <td>0.289478</td>\n",
       "      <td>263.0</td>\n",
       "      <td>0.5</td>\n",
       "      <td>0.6</td>\n",
       "    </tr>\n",
       "    <tr>\n",
       "      <th>...</th>\n",
       "      <td>...</td>\n",
       "      <td>...</td>\n",
       "      <td>...</td>\n",
       "      <td>...</td>\n",
       "      <td>...</td>\n",
       "      <td>...</td>\n",
       "      <td>...</td>\n",
       "      <td>...</td>\n",
       "      <td>...</td>\n",
       "      <td>...</td>\n",
       "      <td>...</td>\n",
       "      <td>...</td>\n",
       "      <td>...</td>\n",
       "      <td>...</td>\n",
       "      <td>...</td>\n",
       "      <td>...</td>\n",
       "      <td>...</td>\n",
       "      <td>...</td>\n",
       "      <td>...</td>\n",
       "      <td>...</td>\n",
       "      <td>...</td>\n",
       "    </tr>\n",
       "    <tr>\n",
       "      <th>218031</th>\n",
       "      <td>3.535618e-22</td>\n",
       "      <td>4.722553e-22</td>\n",
       "      <td>4.692500e-22</td>\n",
       "      <td>5.307244e-22</td>\n",
       "      <td>6.048017e-22</td>\n",
       "      <td>6.291295e-22</td>\n",
       "      <td>6.453254e-22</td>\n",
       "      <td>6.485575e-22</td>\n",
       "      <td>7.700791e-22</td>\n",
       "      <td>1.061828e-21</td>\n",
       "      <td>...</td>\n",
       "      <td>8.640137e-25</td>\n",
       "      <td>6</td>\n",
       "      <td>9</td>\n",
       "      <td>-1</td>\n",
       "      <td>0.530767</td>\n",
       "      <td>0.469233</td>\n",
       "      <td>0.000000</td>\n",
       "      <td>323.0</td>\n",
       "      <td>0.8</td>\n",
       "      <td>0.6</td>\n",
       "    </tr>\n",
       "    <tr>\n",
       "      <th>57587</th>\n",
       "      <td>9.397569e-22</td>\n",
       "      <td>1.173034e-21</td>\n",
       "      <td>2.279960e-21</td>\n",
       "      <td>8.301202e-22</td>\n",
       "      <td>8.418463e-22</td>\n",
       "      <td>9.303921e-22</td>\n",
       "      <td>1.093095e-21</td>\n",
       "      <td>2.257390e-21</td>\n",
       "      <td>3.849821e-21</td>\n",
       "      <td>3.221007e-21</td>\n",
       "      <td>...</td>\n",
       "      <td>1.020158e-21</td>\n",
       "      <td>14</td>\n",
       "      <td>15</td>\n",
       "      <td>18</td>\n",
       "      <td>0.600135</td>\n",
       "      <td>0.375171</td>\n",
       "      <td>0.024694</td>\n",
       "      <td>303.0</td>\n",
       "      <td>0.2</td>\n",
       "      <td>0.6</td>\n",
       "    </tr>\n",
       "    <tr>\n",
       "      <th>254241</th>\n",
       "      <td>7.204798e-22</td>\n",
       "      <td>1.141918e-21</td>\n",
       "      <td>2.021069e-21</td>\n",
       "      <td>3.898292e-21</td>\n",
       "      <td>4.167931e-21</td>\n",
       "      <td>3.322392e-21</td>\n",
       "      <td>2.260052e-21</td>\n",
       "      <td>1.356805e-21</td>\n",
       "      <td>9.869838e-22</td>\n",
       "      <td>1.119172e-21</td>\n",
       "      <td>...</td>\n",
       "      <td>1.174975e-22</td>\n",
       "      <td>10</td>\n",
       "      <td>18</td>\n",
       "      <td>20</td>\n",
       "      <td>0.273032</td>\n",
       "      <td>0.469203</td>\n",
       "      <td>0.257765</td>\n",
       "      <td>293.0</td>\n",
       "      <td>1.0</td>\n",
       "      <td>0.6</td>\n",
       "    </tr>\n",
       "    <tr>\n",
       "      <th>30894</th>\n",
       "      <td>4.030195e-22</td>\n",
       "      <td>5.592868e-22</td>\n",
       "      <td>9.234086e-22</td>\n",
       "      <td>2.112966e-21</td>\n",
       "      <td>5.189306e-21</td>\n",
       "      <td>3.964872e-21</td>\n",
       "      <td>1.755474e-21</td>\n",
       "      <td>1.090197e-21</td>\n",
       "      <td>1.088081e-21</td>\n",
       "      <td>1.695364e-21</td>\n",
       "      <td>...</td>\n",
       "      <td>1.690917e-23</td>\n",
       "      <td>8</td>\n",
       "      <td>14</td>\n",
       "      <td>24</td>\n",
       "      <td>0.375711</td>\n",
       "      <td>0.384662</td>\n",
       "      <td>0.239627</td>\n",
       "      <td>323.0</td>\n",
       "      <td>0.1</td>\n",
       "      <td>0.6</td>\n",
       "    </tr>\n",
       "    <tr>\n",
       "      <th>32552</th>\n",
       "      <td>5.608307e-21</td>\n",
       "      <td>5.375661e-21</td>\n",
       "      <td>3.065098e-21</td>\n",
       "      <td>2.121334e-20</td>\n",
       "      <td>1.853282e-20</td>\n",
       "      <td>1.564238e-21</td>\n",
       "      <td>8.492103e-22</td>\n",
       "      <td>1.319094e-21</td>\n",
       "      <td>6.949287e-22</td>\n",
       "      <td>1.153705e-21</td>\n",
       "      <td>...</td>\n",
       "      <td>7.678208e-24</td>\n",
       "      <td>2</td>\n",
       "      <td>16</td>\n",
       "      <td>20</td>\n",
       "      <td>0.296077</td>\n",
       "      <td>0.303199</td>\n",
       "      <td>0.400723</td>\n",
       "      <td>253.0</td>\n",
       "      <td>0.2</td>\n",
       "      <td>0.3</td>\n",
       "    </tr>\n",
       "  </tbody>\n",
       "</table>\n",
       "<p>131079 rows × 1010 columns</p>\n",
       "</div>"
      ],
      "text/plain": [
       "                   0             1             2             3             4  \\\n",
       "51976   1.429725e-20  3.325318e-20  1.513897e-20  1.119836e-21  1.209848e-21   \n",
       "18970   5.940243e-23  7.336601e-23  9.720283e-23  1.447083e-22  2.680262e-22   \n",
       "30497   1.193615e-20  6.945339e-21  6.543001e-22  2.529143e-22  1.749403e-22   \n",
       "30356   1.624151e-20  5.577240e-21  9.267746e-22  2.168774e-21  5.549700e-21   \n",
       "140548  2.003258e-21  1.077312e-21  3.272797e-22  1.452913e-22  9.167639e-23   \n",
       "...              ...           ...           ...           ...           ...   \n",
       "218031  3.535618e-22  4.722553e-22  4.692500e-22  5.307244e-22  6.048017e-22   \n",
       "57587   9.397569e-22  1.173034e-21  2.279960e-21  8.301202e-22  8.418463e-22   \n",
       "254241  7.204798e-22  1.141918e-21  2.021069e-21  3.898292e-21  4.167931e-21   \n",
       "30894   4.030195e-22  5.592868e-22  9.234086e-22  2.112966e-21  5.189306e-21   \n",
       "32552   5.608307e-21  5.375661e-21  3.065098e-21  2.121334e-20  1.853282e-20   \n",
       "\n",
       "                   5             6             7             8             9  \\\n",
       "51976   2.024112e-21  7.172782e-21  4.953834e-21  1.539859e-21  1.285451e-21   \n",
       "18970   8.343595e-22  1.010416e-20  6.042984e-21  7.479574e-22  3.643073e-22   \n",
       "30497   3.243140e-22  3.550860e-22  1.091960e-22  9.629268e-23  1.882503e-22   \n",
       "30356   4.163047e-21  1.670818e-21  8.912111e-22  8.374945e-22  1.444200e-21   \n",
       "140548  6.963908e-23  5.832702e-23  5.251748e-23  4.962818e-23  4.851140e-23   \n",
       "...              ...           ...           ...           ...           ...   \n",
       "218031  6.291295e-22  6.453254e-22  6.485575e-22  7.700791e-22  1.061828e-21   \n",
       "57587   9.303921e-22  1.093095e-21  2.257390e-21  3.849821e-21  3.221007e-21   \n",
       "254241  3.322392e-21  2.260052e-21  1.356805e-21  9.869838e-22  1.119172e-21   \n",
       "30894   3.964872e-21  1.755474e-21  1.090197e-21  1.088081e-21  1.695364e-21   \n",
       "32552   1.564238e-21  8.492103e-22  1.319094e-21  6.949287e-22  1.153705e-21   \n",
       "\n",
       "        ...          1000  element_1  element_2  element_3  element_1_ratio  \\\n",
       "51976   ...  9.105786e-25          9         12         22         0.136030   \n",
       "18970   ...  1.465311e-22          0         21         22         0.188355   \n",
       "30497   ...  7.445923e-23          5         16         19         0.444071   \n",
       "30356   ...  3.604447e-22          4         21         24         0.509421   \n",
       "140548  ...  9.615524e-22          4         13         18         0.227958   \n",
       "...     ...           ...        ...        ...        ...              ...   \n",
       "218031  ...  8.640137e-25          6          9         -1         0.530767   \n",
       "57587   ...  1.020158e-21         14         15         18         0.600135   \n",
       "254241  ...  1.174975e-22         10         18         20         0.273032   \n",
       "30894   ...  1.690917e-23          8         14         24         0.375711   \n",
       "32552   ...  7.678208e-24          2         16         20         0.296077   \n",
       "\n",
       "        element_2_ratio  element_3_ratio   temp  pressure  air_ratio  \n",
       "51976          0.262144         0.601825  283.0       0.2        0.6  \n",
       "18970          0.316809         0.494835  283.0       0.1        0.6  \n",
       "30497          0.477905         0.078024  323.0       0.1        0.6  \n",
       "30356          0.224513         0.266066  323.0       0.1        0.6  \n",
       "140548         0.482563         0.289478  263.0       0.5        0.6  \n",
       "...                 ...              ...    ...       ...        ...  \n",
       "218031         0.469233         0.000000  323.0       0.8        0.6  \n",
       "57587          0.375171         0.024694  303.0       0.2        0.6  \n",
       "254241         0.469203         0.257765  293.0       1.0        0.6  \n",
       "30894          0.384662         0.239627  323.0       0.1        0.6  \n",
       "32552          0.303199         0.400723  253.0       0.2        0.3  \n",
       "\n",
       "[131079 rows x 1010 columns]"
      ]
     },
     "execution_count": 4,
     "metadata": {},
     "output_type": "execute_result"
    }
   ],
   "source": [
    "test_df = pd.read_pickle(\"test_proc.pkl\")\n",
    "test_df"
   ]
  },
  {
   "cell_type": "code",
   "execution_count": 9,
   "metadata": {},
   "outputs": [
    {
     "name": "stdout",
     "output_type": "stream",
     "text": [
      "183553\n",
      "183553\n"
     ]
    }
   ],
   "source": [
    "print(len(df))\n",
    "df = df[(df[[str(i) for i in range(1001)]] > 0).all(axis=1)]\n",
    "print(len(df))"
   ]
  },
  {
   "cell_type": "code",
   "execution_count": 10,
   "metadata": {},
   "outputs": [
    {
     "data": {
      "text/plain": [
       "0.11451733286843582"
      ]
     },
     "execution_count": 10,
     "metadata": {},
     "output_type": "execute_result"
    }
   ],
   "source": [
    "len(df[(df[\"element_1\"] == 0) | (df[\"element_2\"] == 0) | (df[\"element_3\"] == 0)]) / len(df)"
   ]
  },
  {
   "cell_type": "code",
   "execution_count": 5,
   "metadata": {},
   "outputs": [],
   "source": [
    "class CustomSpectraDataset(Dataset):\n",
    "    def __init__(self, data: pd.DataFrame, device=\"cuda:0\") -> None:\n",
    "        self.data = data\n",
    "        self.elements = self.data[\"element_1\"].unique()\n",
    "        self.air_ratios = data.air_ratio.to_numpy(dtype=np.float64)\n",
    "\n",
    "        self.spectras = torch.log(\n",
    "            torch.tensor(\n",
    "                self.data[[str(i) for i in range(1001)]].to_numpy(dtype=np.float64)\n",
    "            )\n",
    "        ).to(device)\n",
    "\n",
    "        self.ratios = torch.tensor(\n",
    "            self.data[\n",
    "                [\"element_1_ratio\", \"element_2_ratio\", \"element_3_ratio\"]\n",
    "            ].to_numpy(dtype=np.float64)\n",
    "        ).to(device)\n",
    "\n",
    "        self.element_indices = self.data[\n",
    "            [\"element_1\", \"element_2\", \"element_3\"]\n",
    "        ].to_numpy(dtype=np.float64)\n",
    "\n",
    "        self.elements_distributions = torch.zeros(\n",
    "            [len(self.data), len(self.elements) + 1], dtype=torch.float64\n",
    "        ).to(device)\n",
    "\n",
    "        for idx in range(len(self.data)):\n",
    "            indices = self.element_indices[idx, :]\n",
    "            indices = indices[indices != -1]\n",
    "            self.elements_distributions[idx, indices] = self.ratios[idx][\n",
    "                range(indices.shape[0])\n",
    "            ] * (1 - self.air_ratios[idx])\n",
    "            self.elements_distributions[idx, -1] = self.air_ratios[idx]\n",
    "\n",
    "        self.elements_distributions = self.elements_distributions[\n",
    "            ~torch.isnan(self.spectras).any(dim=1)\n",
    "        ]\n",
    "        self.spectras = self.spectras[~torch.isnan(self.spectras).any(dim=1)]\n",
    "\n",
    "    def __len__(self) -> int:\n",
    "        return len(self.spectras)\n",
    "\n",
    "    def __getitem__(self, idx: int) -> Tuple[torch.Tensor, torch.Tensor]:\n",
    "        spectra = self.spectras[idx]\n",
    "        elements_distribution = self.elements_distributions[idx]\n",
    "\n",
    "        return spectra, elements_distribution"
   ]
  },
  {
   "cell_type": "code",
   "execution_count": 6,
   "metadata": {},
   "outputs": [],
   "source": [
    "test_dataset = CustomSpectraDataset(test_df)"
   ]
  },
  {
   "cell_type": "code",
   "execution_count": 7,
   "metadata": {},
   "outputs": [],
   "source": [
    "val_loader = DataLoader(\n",
    "    test_dataset,\n",
    "    batch_size=2048,\n",
    ")"
   ]
  },
  {
   "cell_type": "code",
   "execution_count": 8,
   "metadata": {},
   "outputs": [],
   "source": [
    "class THzFCNN(nn.Module):\n",
    "    def __init__(self, n_elements: int) -> None:\n",
    "        super().__init__()\n",
    "        self.n_elements = n_elements\n",
    "        self.net = nn.Sequential(\n",
    "            nn.BatchNorm1d(1001),\n",
    "            nn.Linear(in_features=1001, out_features=4000),\n",
    "            nn.LeakyReLU(),\n",
    "            nn.BatchNorm1d(4000),\n",
    "            nn.Linear(in_features=4000, out_features=2000),\n",
    "            nn.LeakyReLU(),\n",
    "            nn.BatchNorm1d(2000),\n",
    "            nn.Linear(in_features=2000, out_features=2000),\n",
    "            nn.LeakyReLU(),\n",
    "            nn.BatchNorm1d(2000),\n",
    "            nn.Linear(in_features=2000, out_features=1000),\n",
    "            nn.LeakyReLU(),\n",
    "            nn.BatchNorm1d(1000),\n",
    "            nn.Linear(in_features=1000, out_features=500),\n",
    "            nn.LeakyReLU(),\n",
    "            nn.BatchNorm1d(500),\n",
    "            nn.Linear(in_features=500, out_features=500),\n",
    "            nn.LeakyReLU(),\n",
    "            nn.BatchNorm1d(500),\n",
    "            nn.Linear(in_features=500, out_features=250),\n",
    "            nn.LeakyReLU(),\n",
    "            nn.BatchNorm1d(250),\n",
    "            nn.Linear(in_features=250, out_features=250),\n",
    "            nn.LeakyReLU(),\n",
    "            nn.BatchNorm1d(250),\n",
    "            nn.Linear(in_features=250, out_features=self.n_elements),\n",
    "            nn.Dropout(p=0.05),\n",
    "        )\n",
    "\n",
    "    def forward(self, x: torch.Tensor) -> torch.Tensor:\n",
    "        return self.net(x)"
   ]
  },
  {
   "cell_type": "code",
   "execution_count": 9,
   "metadata": {},
   "outputs": [
    {
     "name": "stdout",
     "output_type": "stream",
     "text": [
      "cuda:0\n"
     ]
    },
    {
     "name": "stderr",
     "output_type": "stream",
     "text": [
      "testing:   0%|          | 0/64 [00:00<?, ?it/s]C:\\Users\\whoee\\AppData\\Roaming\\Python\\Python310\\site-packages\\torch\\nn\\modules\\module.py:1511: UserWarning: Implicit dimension choice for softmax has been deprecated. Change the call to include dim=X as an argument.\n",
      "  return self._call_impl(*args, **kwargs)\n",
      "testing: 100%|██████████| 64/64 [00:32<00:00,  1.97it/s]\n"
     ]
    }
   ],
   "source": [
    "net = THzFCNN(test_dataset[0][1].shape[0])\n",
    "net.load_state_dict(torch.load(\"./fcnn-bs-2048-add-layer-small-dropout.model\"))\n",
    "\n",
    "net.to(device)\n",
    "\n",
    "\n",
    "print(device)\n",
    "\n",
    "\n",
    "pred, y_test = np.empty((0, 26)), np.empty((0, 26))\n",
    "for spectra, target in tqdm(val_loader, desc=\"testing\"):\n",
    "    ans = net(spectra)\n",
    "    ans = nn.Softmax()(ans).cpu().detach().numpy()\n",
    "    pred = np.append(pred, ans, axis=0)\n",
    "    y_test = np.append(y_test, target.cpu().numpy(), axis=0)"
   ]
  },
  {
   "cell_type": "code",
   "execution_count": 18,
   "metadata": {},
   "outputs": [
    {
     "name": "stderr",
     "output_type": "stream",
     "text": [
      "testing:   0%|          | 0/64 [00:00<?, ?it/s]\n"
     ]
    },
    {
     "data": {
      "text/plain": [
       "(tensor([1.2818e-03, 2.9335e-02, 1.0418e-02, 9.4013e-04, 8.1593e-04, 7.5845e-04,\n",
       "         7.4720e-04, 1.9152e-03, 1.0439e-02, 1.3736e-03, 1.1436e-03, 4.9432e-03,\n",
       "         1.4880e-03, 1.5715e-03, 6.9828e-04, 2.1599e-03, 1.0729e-03, 1.3185e-01,\n",
       "         9.2884e-04, 1.5478e-03, 6.8504e-04, 9.7989e-04, 1.1288e-03, 8.7979e-04,\n",
       "         1.2551e-03, 7.8964e-01], device='cuda:0', grad_fn=<SelectBackward0>),\n",
       " tensor([0.0000, 0.0000, 0.0000, 0.0000, 0.0000, 0.0000, 0.0000, 0.0000, 0.0740,\n",
       "         0.0000, 0.0000, 0.1145, 0.0000, 0.0000, 0.0000, 0.0000, 0.0000, 0.2114,\n",
       "         0.0000, 0.0000, 0.0000, 0.0000, 0.0000, 0.0000, 0.0000, 0.6000],\n",
       "        device='cuda:0'))"
      ]
     },
     "execution_count": 18,
     "metadata": {},
     "output_type": "execute_result"
    }
   ],
   "source": [
    "for spectra, target in tqdm(val_loader, desc=\"testing\"):\n",
    "    ans = net(spectra)\n",
    "    ans = nn.Softmax()(ans)\n",
    "    break\n",
    "ans[5], target[5]"
   ]
  },
  {
   "cell_type": "code",
   "execution_count": 11,
   "metadata": {},
   "outputs": [],
   "source": [
    "from sklearn.metrics import (\n",
    "    accuracy_score,\n",
    "    precision_score,\n",
    "    recall_score,\n",
    "    f1_score,\n",
    "    mean_absolute_error,\n",
    ")"
   ]
  },
  {
   "cell_type": "code",
   "execution_count": 38,
   "metadata": {},
   "outputs": [
    {
     "name": "stdout",
     "output_type": "stream",
     "text": [
      "F1: 0.9082083020753646\n",
      "precision: 0.9340409467676765\n",
      "recall: 0.8836817939245001\n",
      "accuracy: 0.619078872057084\n"
     ]
    }
   ],
   "source": [
    "\n",
    "print(f'F1: {f1_score(y_test, np.where(pred > 0.05, 1, 0), average=\"macro\")}')\n",
    "print(\n",
    "    f'precision: {precision_score(y_test, np.where(pred > 0.1, 1, 0), average=\"macro\")}'\n",
    ")\n",
    "print(f'recall: {recall_score(y_test, np.where(pred > 0.1, 1, 0), average=\"macro\")}')\n",
    "print(f\"accuracy: {accuracy_score(y_test, np.where(pred > 0.1, 1, 0))}\")"
   ]
  },
  {
   "cell_type": "code",
   "execution_count": 39,
   "metadata": {},
   "outputs": [
    {
     "name": "stdout",
     "output_type": "stream",
     "text": [
      "precision: [0.99986054 0.49804203 0.50049659 0.99978677 0.99992991 0.99817953\n",
      " 0.96094152 0.99712437 0.44192958 0.99113612 0.99829376 0.99270487\n",
      " 1.         0.99992889 0.99964664 0.99663276 0.99992883 0.99993001\n",
      " 0.99986008 1.         0.995998   0.99971595 0.98542831 0.99852092\n",
      " 0.99700769]\n",
      "recall: [0.94734408 0.51142685 0.50561873 0.93829631 0.94620946 0.9490713\n",
      " 0.86798219 0.91690355 0.51239231 0.92690789 0.93246564 0.93055371\n",
      " 0.9432808  0.94287247 0.94520548 0.9436732  0.94307961 0.94665695\n",
      " 0.94436368 0.94223081 0.92267461 0.94053982 0.93102987 0.94024406\n",
      " 0.92102146]\n",
      "F1: [0.97332113 0.5151857  0.51233036 0.96929312 0.97286439 0.97259574\n",
      " 0.88562124 0.95503855 0.49646586 0.95332371 0.96494522 0.96032151\n",
      " 0.97177033 0.97187758 0.9724242  0.96855432 0.97126298 0.97347661\n",
      " 0.97226654 0.97111728 0.96032533 0.96899438 0.94664686 0.9696268\n",
      " 0.95555781]\n"
     ]
    }
   ],
   "source": [
    "print(\n",
    "    f'precision: {precision_score(y_test, np.where(pred > 0.1, 1, 0), average=None)}'\n",
    ")\n",
    "print(f'recall: {recall_score(y_test, np.where(pred > 0.1, 1, 0), average=None)}')\n",
    "print(f\"F1: {f1_score(y_test, np.where(pred > 0.05, 1, 0), average=None)}\")"
   ]
  },
  {
   "cell_type": "code",
   "execution_count": 28,
   "metadata": {},
   "outputs": [
    {
     "data": {
      "text/plain": [
       "0.908208302"
      ]
     },
     "execution_count": 28,
     "metadata": {},
     "output_type": "execute_result"
    }
   ],
   "source": [
    "np.array(list(map(float, \"0.97332113 0.5151857 0.51233036 0.96929312 0.97286439 0.97259574 0.88562124 0.95503855 0.49646586 0.95332371 0.96494522 0.96032151 0.97177033 0.97187758 0.9724242 0.96855432 0.97126298 0.97347661 0.97226654 0.97111728 0.96032533 0.96899438 0.94664686 0.9696268 0.95555781\".split(\" \")))).mean()"
   ]
  },
  {
   "cell_type": "code",
   "execution_count": 13,
   "metadata": {},
   "outputs": [],
   "source": [
    "def cross_entropy(predictions, targets, epsilon=1e-12):\n",
    "    \"\"\"\n",
    "    Computes cross entropy between targets (encoded as one-hot vectors)\n",
    "    and predictions.\n",
    "    Input: predictions (N, k) ndarray\n",
    "           targets (N, k) ndarray\n",
    "    Returns: scalar\n",
    "    \"\"\"\n",
    "    predictions = np.clip(predictions, epsilon, 1.0 - epsilon)\n",
    "    N = predictions.shape[0]\n",
    "    ce = -np.sum(targets * np.log(predictions + 1e-9)) / N\n",
    "    return ce"
   ]
  },
  {
   "cell_type": "code",
   "execution_count": 15,
   "metadata": {},
   "outputs": [
    {
     "name": "stdout",
     "output_type": "stream",
     "text": [
      "MAE: 0.029936199440300314\n",
      "MAE: [0.01662792 0.02609384 0.02538093 0.0129612  0.01923808 0.01695865\n",
      " 0.01805305 0.01919187 0.02949075 0.01551713 0.01465912 0.01210849\n",
      " 0.02211429 0.0195869  0.01433084 0.01838715 0.01593775 0.01757408\n",
      " 0.01874721 0.01934471 0.0124655  0.01884126 0.01451602 0.01129428\n",
      " 0.01129266 0.33762751]\n",
      "Cross Entropy: 3.198969430457932\n"
     ]
    }
   ],
   "source": [
    "print(f'MAE: {mean_absolute_error(y_test, pred)}')\n",
    "print(f\"MAE: {mean_absolute_error(y_test, pred, multioutput='raw_values')}\")\n",
    "print(f\"Cross Entropy: {cross_entropy(y_test, pred)}\")"
   ]
  }
 ],
 "metadata": {
  "kernelspec": {
   "display_name": ".venv",
   "language": "python",
   "name": "python3"
  },
  "language_info": {
   "codemirror_mode": {
    "name": "ipython",
    "version": 3
   },
   "file_extension": ".py",
   "mimetype": "text/x-python",
   "name": "python",
   "nbconvert_exporter": "python",
   "pygments_lexer": "ipython3",
   "version": "3.10.7"
  }
 },
 "nbformat": 4,
 "nbformat_minor": 2
}
